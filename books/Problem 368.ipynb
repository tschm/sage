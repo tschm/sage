{
 "cells": [
  {
   "cell_type": "markdown",
   "metadata": {},
   "source": [
    "https://projecteuler.net/problem=368"
   ]
  },
  {
   "cell_type": "code",
   "execution_count": 6,
   "metadata": {},
   "outputs": [],
   "source": [
    "from kempner.util import create_matrices, Psi_matrix, T_matrix, forward_interpolate, T_matrix2\n",
    "import sage.all as sg"
   ]
  },
  {
   "cell_type": "code",
   "execution_count": 7,
   "metadata": {},
   "outputs": [
    {
     "data": {
      "text/plain": [
       "array([[2, 1, 3, 1, 4, 1, 5, 1, 6, 1],\n",
       "       [0, 1, 3, 1, 4, 1, 5, 1, 6, 1],\n",
       "       [2, 1, 0, 1, 4, 1, 5, 1, 6, 1],\n",
       "       [2, 1, 3, 1, 0, 1, 5, 1, 6, 1],\n",
       "       [2, 1, 3, 1, 4, 1, 0, 1, 6, 1],\n",
       "       [2, 1, 3, 1, 4, 1, 5, 1, 0, 1]])"
      ]
     },
     "execution_count": 7,
     "metadata": {},
     "output_type": "execute_result"
    }
   ],
   "source": [
    "T_matrix2([\"00\",\"22\", \"44\", \"66\", \"88\"],10)"
   ]
  },
  {
   "cell_type": "code",
   "execution_count": 8,
   "metadata": {},
   "outputs": [
    {
     "data": {
      "text/plain": [
       "array([[1, 1, 2, 1, 1, 1, 1, 1, 1, 1],\n",
       "       [1, 1, 3, 1, 1, 1, 1, 1, 1, 1],\n",
       "       [1, 1, 3, 0, 1, 1, 1, 1, 1, 1]])"
      ]
     },
     "execution_count": 8,
     "metadata": {},
     "output_type": "execute_result"
    }
   ],
   "source": [
    "T_matrix2([\"223\"])"
   ]
  },
  {
   "cell_type": "code",
   "execution_count": 9,
   "metadata": {},
   "outputs": [],
   "source": [
    "T=T_matrix2([\"11\",\"22\",\"33\",\"44\",\"55\",\"66\",\"77\",\"88\",\"99\",\"00\"])"
   ]
  },
  {
   "cell_type": "code",
   "execution_count": 10,
   "metadata": {},
   "outputs": [
    {
     "name": "stdout",
     "output_type": "stream",
     "text": [
      "[[1 0 1 0 0 1 1 1 1 1]]\n",
      "(100, 1, 100)\n",
      "(100, 1, 100)\n",
      "3.769948379731421234091157589318651853136093550218834985588845921728325322439394278518653155662318231\n",
      "CPU times: user 10.8 s, sys: 302 ms, total: 11.1 s\n",
      "Wall time: 11 s\n"
     ]
    }
   ],
   "source": [
    "%%time\n",
    "T = T_matrix2([\"3\",\"1\", \"4\"],10)\n",
    "print(T)\n",
    "S, f, A, B = create_matrices(T, digits=4)\n",
    "\n",
    "Psi = Psi_matrix(S, extrapolation=100, cutoff=100, prec=200)\n",
    "print(Psi.shape)\n",
    "\n",
    "Psi = forward_interpolate(Psi, f)\n",
    "print(Psi.shape)\n",
    "\n",
    "import sage.all as sg\n",
    "print(sg.numerical_approx(sum(B*sg.vector(SR, Psi[-1,:,1])) + sum(Psi[:,:,1]), digits=100))"
   ]
  },
  {
   "cell_type": "code",
   "execution_count": null,
   "metadata": {},
   "outputs": [],
   "source": []
  }
 ],
 "metadata": {
  "kernelspec": {
   "display_name": "SageMath 8.6",
   "language": "",
   "name": "sagemath"
  },
  "language_info": {
   "codemirror_mode": {
    "name": "ipython",
    "version": 2
   },
   "file_extension": ".py",
   "mimetype": "text/x-python",
   "name": "python",
   "nbconvert_exporter": "python",
   "pygments_lexer": "ipython2",
   "version": "2.7.15"
  }
 },
 "nbformat": 4,
 "nbformat_minor": 2
}
